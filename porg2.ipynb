{
 "cells": [
  {
   "cell_type": "code",
   "execution_count": 1,
   "metadata": {},
   "outputs": [],
   "source": [
    "from PIL import Image\n",
    "import numpy as np\n",
    "import random\n",
    "import cv2 as cv\n",
    "import matplotlib.pyplot as plt\n",
    "from ImageProcessor import ImageProcessor\n",
    "import os\n",
    "\n",
    "# 读取50张clean jpg图片\n",
    "image_path = './clean_photos'\n",
    "ImageProcessor = ImageProcessor(image_path, 50)\n",
    "ImageProcessor.read_images()\n",
    "\n",
    "# 随机的噪声污染这些图片\n",
    "# 现在污染噪声的类型分为三种：椒盐噪声、高斯噪声、泊松噪声；10张图片只添加椒盐噪声，10张图片只添加高斯噪声，10张图片只添加泊松噪声，20张图片添加椒盐噪声、高斯噪声和泊松噪声\n",
    "for i in range(10):\n",
    "    salt_prob = random.random() * 0.01\n",
    "    pepper_prob = random.random() * 0.01\n",
    "    ImageProcessor.add_salt_pepper_noise(i, salt_prob, pepper_prob)\n",
    "\n",
    "\n",
    "for i in range(10, 20):\n",
    "    mean = 0\n",
    "    sigma = random.uniform(0,10)\n",
    "    ImageProcessor.add_gaussian_noise(i,mean,sigma)\n",
    "\n",
    "\n",
    "for i in range(20, 30):\n",
    "    ImageProcessor.add_poisson_noise(i)\n",
    "\n",
    "\n",
    "for i in range(30, 50):\n",
    "    salt_prob = random.random() * 0.01\n",
    "    pepper_prob = random.random() * 0.01 \n",
    "    mean = 0\n",
    "    sigma = random.uniform(0,10)\n",
    "    ImageProcessor.add_all_noises(i,salt_prob,pepper_prob,mean,sigma)"
   ]
  },
  {
   "cell_type": "code",
   "execution_count": 4,
   "metadata": {},
   "outputs": [
    {
     "name": "stdout",
     "output_type": "stream",
     "text": [
      "(150, 150, 3)\n",
      "迭代次数为2\n"
     ]
    }
   ],
   "source": [
    "# PMG去噪\n",
    "lam = 0.4\n",
    "t = 150\n",
    "PGM_denoising_result = []\n",
    "for i in range(1):\n",
    "    PGM_denoising_result.append(ImageProcessor.PGM_denoising(i, lam, t))"
   ]
  },
  {
   "cell_type": "code",
   "execution_count": 2,
   "metadata": {},
   "outputs": [
    {
     "name": "stderr",
     "output_type": "stream",
     "text": [
      "/Users/zhaoqiyuan/Desktop/IdleData/计算成像与反问题/HW1-Computational Imaging/ImageProcessor.py:131: RuntimeWarning: invalid value encountered in cast\n",
      "  u_k[i][j][k] = channel + lam * t1\n",
      "/Users/zhaoqiyuan/Desktop/IdleData/计算成像与反问题/HW1-Computational Imaging/ImageProcessor.py:127: RuntimeWarning: invalid value encountered in cast\n",
      "  u_k[i][j][k] = channel - lam * t1\n",
      "/Users/zhaoqiyuan/Desktop/IdleData/计算成像与反问题/HW1-Computational Imaging/ImageProcessor.py:122: RuntimeWarning: overflow encountered in multiply\n",
      "  u_k_temp = u_k_old + t1 * t2 * (image_array_k - u_k_old + (1/t2) * s_k_old)\n",
      "/Users/zhaoqiyuan/Desktop/IdleData/计算成像与反问题/HW1-Computational Imaging/ImageProcessor.py:119: RuntimeWarning: overflow encountered in multiply\n",
      "  image_array_k = (1 + 2*t2) * (image_array + t2 * u_k_old - s_k_old)\n",
      "/Users/zhaoqiyuan/Desktop/IdleData/计算成像与反问题/HW1-Computational Imaging/ImageProcessor.py:141: RuntimeWarning: overflow encountered in subtract\n",
      "  if np.linalg.norm(image_array_k - image_array_k_old) < 1e-4:\n",
      "/Users/zhaoqiyuan/Desktop/IdleData/计算成像与反问题/HW1-Computational Imaging/ImageProcessor.py:122: RuntimeWarning: invalid value encountered in add\n",
      "  u_k_temp = u_k_old + t1 * t2 * (image_array_k - u_k_old + (1/t2) * s_k_old)\n",
      "/Users/zhaoqiyuan/Desktop/IdleData/计算成像与反问题/HW1-Computational Imaging/ImageProcessor.py:140: RuntimeWarning: invalid value encountered in add\n",
      "  s_k = s_k_old + alpha_k * (image_array_k - u_k)\n"
     ]
    },
    {
     "ename": "KeyboardInterrupt",
     "evalue": "",
     "output_type": "error",
     "traceback": [
      "\u001b[0;31m---------------------------------------------------------------------------\u001b[0m",
      "\u001b[0;31mKeyboardInterrupt\u001b[0m                         Traceback (most recent call last)",
      "Cell \u001b[0;32mIn[2], line 7\u001b[0m\n\u001b[1;32m      5\u001b[0m t2 \u001b[38;5;241m=\u001b[39m \u001b[38;5;241m100\u001b[39m\n\u001b[1;32m      6\u001b[0m \u001b[38;5;28;01mfor\u001b[39;00m i \u001b[38;5;129;01min\u001b[39;00m \u001b[38;5;28mrange\u001b[39m(\u001b[38;5;241m2\u001b[39m):\n\u001b[0;32m----> 7\u001b[0m     AMDD_denoising_result\u001b[38;5;241m.\u001b[39mappend(\u001b[43mImageProcessor\u001b[49m\u001b[38;5;241;43m.\u001b[39;49m\u001b[43mADMM_denoising\u001b[49m\u001b[43m(\u001b[49m\u001b[43mi\u001b[49m\u001b[43m,\u001b[49m\u001b[43m \u001b[49m\u001b[43mlam\u001b[49m\u001b[43m,\u001b[49m\u001b[43m \u001b[49m\u001b[43mt1\u001b[49m\u001b[43m,\u001b[49m\u001b[43m \u001b[49m\u001b[43mt2\u001b[49m\u001b[43m,\u001b[49m\u001b[43m \u001b[49m\u001b[43malpha_k\u001b[49m\u001b[38;5;241;43m=\u001b[39;49m\u001b[38;5;241;43m0.5\u001b[39;49m\u001b[43m)\u001b[49m)\n",
      "File \u001b[0;32m~/Desktop/IdleData/计算成像与反问题/HW1-Computational Imaging/ImageProcessor.py:125\u001b[0m, in \u001b[0;36mImageProcessor.ADMM_denoising\u001b[0;34m(self, index_image, lam, t1, t2, alpha_k)\u001b[0m\n\u001b[1;32m    123\u001b[0m \u001b[38;5;28;01mfor\u001b[39;00m i, row \u001b[38;5;129;01min\u001b[39;00m \u001b[38;5;28menumerate\u001b[39m(u_k_temp):\n\u001b[1;32m    124\u001b[0m     \u001b[38;5;28;01mfor\u001b[39;00m j, pixel \u001b[38;5;129;01min\u001b[39;00m \u001b[38;5;28menumerate\u001b[39m(row):\n\u001b[0;32m--> 125\u001b[0m         \u001b[38;5;28;01mfor\u001b[39;00m k, channel \u001b[38;5;129;01min\u001b[39;00m \u001b[38;5;28menumerate\u001b[39m(pixel):\n\u001b[1;32m    126\u001b[0m             \u001b[38;5;28;01mif\u001b[39;00m channel \u001b[38;5;241m>\u001b[39m lam \u001b[38;5;241m*\u001b[39m t1:\n\u001b[1;32m    127\u001b[0m                 u_k[i][j][k] \u001b[38;5;241m=\u001b[39m channel \u001b[38;5;241m-\u001b[39m lam \u001b[38;5;241m*\u001b[39m t1\n",
      "\u001b[0;31mKeyboardInterrupt\u001b[0m: "
     ]
    }
   ],
   "source": [
    "# ADMM去噪\n",
    "AMDD_denoising_result = []\n",
    "lam = 0.4\n",
    "t1 = 100\n",
    "t2 = 100\n",
    "for i in range(2):\n",
    "    AMDD_denoising_result.append(ImageProcessor.ADMM_denoising(i, lam, t1, t2, alpha_k=0.5))"
   ]
  },
  {
   "cell_type": "code",
   "execution_count": 6,
   "metadata": {},
   "outputs": [],
   "source": [
    "ii = 0\n",
    "PGM_denoising_result[ii].show()\n",
    "#AMDD_denoising_result[ii].show()\n",
    "ImageProcessor.noisy_images[ii].show()"
   ]
  },
  {
   "cell_type": "code",
   "execution_count": 7,
   "metadata": {},
   "outputs": [
    {
     "name": "stdout",
     "output_type": "stream",
     "text": [
      "迭代次数为2\n"
     ]
    }
   ],
   "source": [
    "# PMG去噪\n",
    "lam = 0.4\n",
    "t = 150\n",
    "ImageProcessor.PGM_denoising(29, lam, t).show()\n",
    "ImageProcessor.noisy_images[29].show()"
   ]
  },
  {
   "cell_type": "code",
   "execution_count": null,
   "metadata": {},
   "outputs": [],
   "source": [
    "\n",
    "\n"
   ]
  }
 ],
 "metadata": {
  "kernelspec": {
   "display_name": "ComputationalImagingHW",
   "language": "python",
   "name": "python3"
  },
  "language_info": {
   "codemirror_mode": {
    "name": "ipython",
    "version": 3
   },
   "file_extension": ".py",
   "mimetype": "text/x-python",
   "name": "python",
   "nbconvert_exporter": "python",
   "pygments_lexer": "ipython3",
   "version": "3.11.10"
  }
 },
 "nbformat": 4,
 "nbformat_minor": 2
}
