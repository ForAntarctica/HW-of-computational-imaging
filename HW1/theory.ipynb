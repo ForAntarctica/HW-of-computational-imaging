{
 "cells": [
  {
   "cell_type": "markdown",
   "metadata": {},
   "source": [
    "1. 根据题意精度为$\\epsilon$，我们需要至少$O(\\frac{1}{\\epsilon})$\n",
    "2. 有强凸的条件，需要$O(\\log(\\frac{1}{\\epsilon}))$\n",
    "3. 使用固定步长的次梯度下降，需要$O(\\frac{1}{\\epsilon^2})$\n",
    "4. 使用衰减步长的次梯度下降，需要$O(\\frac{1}{\\epsilon^2})$\n",
    "5. 固定步长近端梯度法需要$O(\\frac{1}{\\epsilon})$\n",
    "6. $O(\\sqrt{\\frac{1}{\\epsilon}})$\n",
    "7. 在接近最优解时，BFGS 算法通常只需要几步迭代即可达到高精度。在全局范围内，收敛速度为$O(\\log(\\frac{1}{\\epsilon}))$"
   ]
  }
 ],
 "metadata": {
  "language_info": {
   "name": "python"
  }
 },
 "nbformat": 4,
 "nbformat_minor": 2
}
