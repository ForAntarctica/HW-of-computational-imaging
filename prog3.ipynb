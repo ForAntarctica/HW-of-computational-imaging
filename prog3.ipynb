{
 "cells": [
  {
   "cell_type": "code",
   "execution_count": null,
   "metadata": {},
   "outputs": [],
   "source": [
    "import numpy as np\n",
    "import random\n",
    "import cv2 as cv\n",
    "from skimage import color, data, restoration\n",
    "import matplotlib.pyplot as plt\n",
    "import Sparse_SIM\n",
    "\n",
    "# 初始化类\n",
    "image_path = \"E:\\zhao_qy\\zhaoqy_computation_imaging_hw\\HW-of-computational-imaging\\Microscopy_images\"\n",
    "image_name = \"0000000.png\"\n",
    "Sparse_SIM = Sparse_SIM(image_path, image_name)\n",
    "\n",
    "# 读取模糊图像\n",
    "image_blur = Sparse_SIM.read_blur_image()\n",
    "\n",
    "# 稀疏性解卷积\n",
    "t = 0.01 # 步长\n",
    "ep = 1e-5 # 精度\n",
    "x = Sparse_SIM.sparse_hessian_deconv(iteration_num = 100, fidelity = 150, sparse = 10, t, ep, mu = 1)\n",
    "\n",
    "\n",
    "\n",
    "\n",
    "\n",
    "\n"
   ]
  }
 ],
 "metadata": {
  "kernelspec": {
   "display_name": "zhaoqy_computation_imaging_hw",
   "language": "python",
   "name": "python3"
  },
  "language_info": {
   "name": "python",
   "version": "3.12.7"
  }
 },
 "nbformat": 4,
 "nbformat_minor": 2
}
