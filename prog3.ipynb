{
 "cells": [
  {
   "cell_type": "code",
   "execution_count": 2,
   "metadata": {},
   "outputs": [
    {
     "name": "stderr",
     "output_type": "stream",
     "text": [
      "<>:9: SyntaxWarning: invalid escape sequence '\\z'\n",
      "<>:9: SyntaxWarning: invalid escape sequence '\\z'\n",
      "C:\\Users\\DELL\\AppData\\Local\\Temp\\ipykernel_30028\\2619156971.py:9: SyntaxWarning: invalid escape sequence '\\z'\n",
      "  image_path = \"E:\\zhao_qy\\zhaoqy_computation_imaging_hw\\HW-of-computational-imaging\\Microscopy_images\"\n"
     ]
    },
    {
     "ename": "error",
     "evalue": "OpenCV(4.10.0) C:\\b\\abs_daut97tdpo\\croot\\opencv-suite_1722029138522\\work\\modules\\imgproc\\src\\color.cpp:196: error: (-215:Assertion failed) !_src.empty() in function 'cv::cvtColor'\n",
     "output_type": "error",
     "traceback": [
      "\u001b[1;31m---------------------------------------------------------------------------\u001b[0m",
      "\u001b[1;31merror\u001b[0m                                     Traceback (most recent call last)",
      "Cell \u001b[1;32mIn[2], line 14\u001b[0m\n\u001b[0;32m     11\u001b[0m Sparse_SIM \u001b[38;5;241m=\u001b[39m Sparse_SIM(image_path, image_name)\n\u001b[0;32m     13\u001b[0m \u001b[38;5;66;03m# 读取模糊图像\u001b[39;00m\n\u001b[1;32m---> 14\u001b[0m image_blur \u001b[38;5;241m=\u001b[39m Sparse_SIM\u001b[38;5;241m.\u001b[39mread_blur_image()\n\u001b[0;32m     16\u001b[0m \u001b[38;5;66;03m# 稀疏性解卷积\u001b[39;00m\n\u001b[0;32m     17\u001b[0m \u001b[38;5;66;03m# 其中iteration_num为迭代次数，fidelity为保真项权重，sparse为稀疏性项权重，t为步长，ep为停止条件\u001b[39;00m\n\u001b[0;32m     18\u001b[0m x \u001b[38;5;241m=\u001b[39m Sparse_SIM\u001b[38;5;241m.\u001b[39msparse_hessian_deconv(iteration_num \u001b[38;5;241m=\u001b[39m \u001b[38;5;241m100\u001b[39m, fidelity \u001b[38;5;241m=\u001b[39m \u001b[38;5;241m150\u001b[39m, sparse \u001b[38;5;241m=\u001b[39m \u001b[38;5;241m10\u001b[39m, t \u001b[38;5;241m=\u001b[39m \u001b[38;5;241m0.01\u001b[39m, ep \u001b[38;5;241m=\u001b[39m \u001b[38;5;241m1e-5\u001b[39m, mu \u001b[38;5;241m=\u001b[39m \u001b[38;5;241m1\u001b[39m)\n",
      "File \u001b[1;32me:\\zhao_qy\\zhaoqy_computation_imaging_hw\\HW-of-computational-imaging\\Sparse_SIM.py:17\u001b[0m, in \u001b[0;36mSparse_SIM.read_blur_image\u001b[1;34m(self)\u001b[0m\n\u001b[0;32m     15\u001b[0m blur_image \u001b[38;5;241m=\u001b[39m cv\u001b[38;5;241m.\u001b[39mimread(\u001b[38;5;28mself\u001b[39m\u001b[38;5;241m.\u001b[39mimage_path \u001b[38;5;241m+\u001b[39m \u001b[38;5;28mself\u001b[39m\u001b[38;5;241m.\u001b[39mimage_name)\n\u001b[0;32m     16\u001b[0m \u001b[38;5;66;03m# 将RGB图像转换为灰度图\u001b[39;00m\n\u001b[1;32m---> 17\u001b[0m blur_image \u001b[38;5;241m=\u001b[39m cv\u001b[38;5;241m.\u001b[39mcvtColor(blur_image, cv\u001b[38;5;241m.\u001b[39mCOLOR_BGR2GRAY)\n\u001b[0;32m     18\u001b[0m \u001b[38;5;66;03m# 将灰度图像转换为浮点数\u001b[39;00m\n\u001b[0;32m     19\u001b[0m blur_image \u001b[38;5;241m=\u001b[39m blur_image\u001b[38;5;241m.\u001b[39mastype(np\u001b[38;5;241m.\u001b[39mfloat64) \u001b[38;5;241m/\u001b[39m \u001b[38;5;241m255\u001b[39m   \n",
      "\u001b[1;31merror\u001b[0m: OpenCV(4.10.0) C:\\b\\abs_daut97tdpo\\croot\\opencv-suite_1722029138522\\work\\modules\\imgproc\\src\\color.cpp:196: error: (-215:Assertion failed) !_src.empty() in function 'cv::cvtColor'\n"
     ]
    }
   ],
   "source": [
    "import numpy as np\n",
    "import random\n",
    "import cv2 as cv\n",
    "from skimage import color, data, restoration\n",
    "import matplotlib.pyplot as plt\n",
    "from Sparse_SIM import Sparse_SIM\n",
    "\n",
    "# 初始化类\n",
    "image_path = \"E:\\zhao_qy\\zhaoqy_computation_imaging_hw\\HW-of-computational-imaging\\Microscopy_images\"\n",
    "image_name = \"0000000.png\"\n",
    "Sparse_SIM = Sparse_SIM(image_path, image_name)\n",
    "\n",
    "# 读取模糊图像\n",
    "image_blur = Sparse_SIM.read_blur_image()\n",
    "\n",
    "# 稀疏性解卷积\n",
    "# 其中iteration_num为迭代次数，fidelity为保真项权重，sparse为稀疏性项权重，t为步长，ep为停止条件\n",
    "x = Sparse_SIM.sparse_hessian_deconv(iteration_num = 100, fidelity = 150, sparse = 10, t = 0.01, ep = 1e-5, mu = 1)\n",
    "\n",
    "# 显示结果\n",
    "plt.figure()\n",
    "plt.imshow(x, cmap='gray')"
   ]
  }
 ],
 "metadata": {
  "kernelspec": {
   "display_name": "zhaoqy_computation_imaging_hw",
   "language": "python",
   "name": "python3"
  },
  "language_info": {
   "codemirror_mode": {
    "name": "ipython",
    "version": 3
   },
   "file_extension": ".py",
   "mimetype": "text/x-python",
   "name": "python",
   "nbconvert_exporter": "python",
   "pygments_lexer": "ipython3",
   "version": "3.12.7"
  }
 },
 "nbformat": 4,
 "nbformat_minor": 2
}
